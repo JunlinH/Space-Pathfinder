{
  "nbformat": 4,
  "nbformat_minor": 0,
  "metadata": {
    "colab": {
      "name": "song_predict_20_highlow.ipynb",
      "provenance": [],
      "collapsed_sections": [],
      "authorship_tag": "ABX9TyPs4yjNs+c9Rq0hdAowofPW",
      "include_colab_link": true
    },
    "kernelspec": {
      "name": "python3",
      "display_name": "Python 3"
    }
  },
  "cells": [
    {
      "cell_type": "markdown",
      "metadata": {
        "id": "view-in-github",
        "colab_type": "text"
      },
      "source": [
        "<a href=\"https://colab.research.google.com/github/JunlinH/Space-Pathfinder/blob/master/song_predict_20_highlow.ipynb\" target=\"_parent\"><img src=\"https://colab.research.google.com/assets/colab-badge.svg\" alt=\"Open In Colab\"/></a>"
      ]
    },
    {
      "cell_type": "code",
      "metadata": {
        "id": "X-JPDrCRZr8M",
        "colab": {
          "base_uri": "https://localhost:8080/"
        },
        "outputId": "e479920e-699b-4624-9951-bebd90cbdf81"
      },
      "source": [
        "from google.colab import drive\n",
        "drive.mount('/content/gdrive')"
      ],
      "execution_count": 22,
      "outputs": [
        {
          "output_type": "stream",
          "text": [
            "Drive already mounted at /content/gdrive; to attempt to forcibly remount, call drive.mount(\"/content/gdrive\", force_remount=True).\n"
          ],
          "name": "stdout"
        }
      ]
    },
    {
      "cell_type": "code",
      "metadata": {
        "id": "MMYmzsRUZxew"
      },
      "source": [
        "import numpy as np\n",
        "import tensorflow.keras as keras\n",
        "import music21\n",
        "import pickle\n",
        "import matplotlib.pyplot as plt\n",
        "from music21 import converter, instrument, note, chord, midi, stream\n",
        "import tensorflow as tf\n",
        "from fractions import Fraction"
      ],
      "execution_count": 23,
      "outputs": []
    },
    {
      "cell_type": "code",
      "metadata": {
        "id": "aZiU7CImZ2Vg"
      },
      "source": [
        "def save_data(data, path):\n",
        "    with open(path, 'wb') as file:\n",
        "        pickle.dump(data, file)\n",
        "\n",
        "def read_data(path):\n",
        "    with open(path, 'rb') as file:\n",
        "        data = pickle.load(file)\n",
        "    return data"
      ],
      "execution_count": 24,
      "outputs": []
    },
    {
      "cell_type": "code",
      "metadata": {
        "id": "K7LQcsd8aDgs"
      },
      "source": [
        "def predict_notes(notes_classes, model):\n",
        "    index_note_dictionary = read_data(\"/content/gdrive/My Drive/Song/index_note_dictionary_20_highlow.pkl\")\n",
        "    X_estimate = read_data(\"/content/gdrive/My Drive/Song/X_estimate_20_highlow.pkl\")\n",
        "    seed_number = np.random.randint(0, len(X_estimate)-1)\n",
        "    seed_notes = X_estimate[seed_number][0]\n",
        "    predicted_ouput = []\n",
        "    predicted_note = []\n",
        "    predicted = []\n",
        "\n",
        "    # generate 500 notes\n",
        "    for i in range(260):\n",
        "          seed_notes_reshape = np.reshape(seed_notes, (1, len(seed_notes), 1))\n",
        "          seed_notes_normalized = seed_notes_reshape / float(notes_classes)\n",
        "          # print(type(seed_notes_normalized))\n",
        "          predicted_note_index = np.argmax(model.predict(seed_notes_normalized), axis=-1)[0,]\n",
        "          predicted_note = index_note_dictionary[predicted_note_index]\n",
        "          predicted_ouput.append(predicted_note)\n",
        "          seed_notes.append(int(predicted_note_index))\n",
        "          seed_notes = seed_notes[1:]\n",
        "          if i == 79:\n",
        "              seed_notes = X_estimate[seed_number][4]\n",
        "          if i == 159:\n",
        "              seed_notes = X_estimate[seed_number][7]\n",
        "\n",
        "    # append with the X_estimate to form a song\n",
        "    predicted += [index_note_dictionary[index] for index in X_estimate[seed_number][0]]\n",
        "    predicted += predicted_ouput\n",
        "    return predicted"
      ],
      "execution_count": 28,
      "outputs": []
    },
    {
      "cell_type": "code",
      "metadata": {
        "id": "CNQCqWJe3f6f"
      },
      "source": [
        "def decode_output(predicted):\n",
        "    output_notes = []\n",
        "    notes_offset = 0.0\n",
        "    midi_stream = stream.Stream()\n",
        "\n",
        "    for pattern in predicted:\n",
        "        #chord\n",
        "        if ';' in pattern:\n",
        "            notes_in_chord = pattern.split(';')\n",
        "            notes_chord = []\n",
        "            for i in range(len(notes_in_chord)-1):\n",
        "                note_name = notes_in_chord[i]\n",
        "                note_duration = int(Fraction(notes_in_chord[-1]))\n",
        "                new_note = note.Note(note_name, quarterLength = note_duration)\n",
        "                new_note.storedInstrument = instrument.Piano()\n",
        "                notes_chord.append(new_note)\n",
        "            new_chord = chord.Chord(notes_chord)\n",
        "            output_notes.append(new_chord)\n",
        "            midi_stream.insert(notes_offset, new_chord)\n",
        "            if len(output_notes) > 1:\n",
        "                if not isinstance(output_notes[-2], note.Note):\n",
        "                    notes_offset += float(Fraction(notes_in_chord[-1]))\n",
        "        #simulnatenous notes\n",
        "        elif '*' in pattern:\n",
        "            notes_in_simul = pattern.split('*')\n",
        "            for i in range(len(notes_in_simul)-1):\n",
        "                note_name_simul = notes_in_simul[i]\n",
        "                note_duration_simul = int(Fraction(notes_in_simul[-1]))\n",
        "                new_note_simul = note.Note(note_name_simul, quarterLength = note_duration_simul, offset = notes_offset)\n",
        "                new_note_simul.storedInstrument = instrument.Piano()\n",
        "                output_notes.append(new_note_simul)\n",
        "                midi_stream.insert(notes_offset, new_note_simul)\n",
        "            notes_offset += float(Fraction(notes_in_simul[-1]))\n",
        "        #single note\n",
        "        elif ' ' in pattern:\n",
        "            single_note = pattern.split()\n",
        "            note_name_single = single_note[0]\n",
        "            note_duration_single = int(Fraction(single_note[-1]))\n",
        "            new_note_single = note.Note(note_name_single, quarterLength = note_duration_single, offset = notes_offset)\n",
        "            new_note_single.storedInstrument = instrument.Piano()\n",
        "            output_notes.append(new_note_single)\n",
        "            midi_stream.insert(notes_offset, new_note_single)\n",
        "            notes_offset += float(Fraction(single_note[-1]))\n",
        "    \n",
        "    print(output_notes)\n",
        "    print(notes_offset)\n",
        "\n",
        "    midi_file = midi_stream.write('midi', fp='/content/gdrive/My Drive/Song/test_output_20_highlow_enhance.mid')\n",
        "\n",
        "    return midi_file\n"
      ],
      "execution_count": 26,
      "outputs": []
    },
    {
      "cell_type": "code",
      "metadata": {
        "colab": {
          "base_uri": "https://localhost:8080/"
        },
        "id": "z3brZ7bbaGW7",
        "outputId": "9bcb11b0-10cf-4bd3-bd92-90b2b4419923"
      },
      "source": [
        "if __name__ == '__main__':\n",
        "\n",
        "    #load the model\n",
        "    model = keras.models.load_model('/content/gdrive/My Drive/Song/song_model_20_highlow_enhance.h5')\n",
        "    model.summary()\n",
        "    #read data\n",
        "    notes_classes = read_data('/content/gdrive/My Drive/Song/notes_classes_20_highlow.pkl')\n",
        "\n",
        "    #predict the output\n",
        "    predicted = predict_notes(notes_classes, model)\n",
        "    print(predicted)\n",
        "\n",
        "    #transform the output back into music notes\n",
        "    midi_file = decode_output(predicted)"
      ],
      "execution_count": 29,
      "outputs": [
        {
          "output_type": "stream",
          "text": [
            "Model: \"sequential\"\n",
            "_________________________________________________________________\n",
            "Layer (type)                 Output Shape              Param #   \n",
            "=================================================================\n",
            "bidirectional (Bidirectional (None, 20, 1024)          2105344   \n",
            "_________________________________________________________________\n",
            "batch_normalization (BatchNo (None, 20, 1024)          4096      \n",
            "_________________________________________________________________\n",
            "lstm_1 (LSTM)                (None, 512)               3147776   \n",
            "_________________________________________________________________\n",
            "dense (Dense)                (None, 8419)              4318947   \n",
            "_________________________________________________________________\n",
            "dense_1 (Dense)              (None, 16838)             141775960 \n",
            "=================================================================\n",
            "Total params: 151,352,123\n",
            "Trainable params: 151,350,075\n",
            "Non-trainable params: 2,048\n",
            "_________________________________________________________________\n",
            "['E-2*F4*0.5', 'B-2*G3*0.5', 'E-3*B-3*0.5', 'F4 1.0', 'G3 0.5', 'E-2*B-3*0.5', 'F4 1.0', 'F2 0.5', 'C3*G3*0.5', 'F3*B-3*0.5', 'F4 1.0', 'G3 1.0', 'F2 1.0', 'B-3 0.5', 'G2 0.5', 'D3*B-3*1.0', 'G3 1.75', 'B-3 1.0', 'B-3 1.0', 'G3 1.0', 'B-3 0.5', 'B-3 0.5', 'G2 0.5', 'D3*C4*1.0', 'G3 1.0', 'D4 1.0', 'G2 1.0', 'E-4 1.0', 'F2 1.0', 'G4 0.5', 'E-2*F5*0.5', 'B-2*G4*0.5', 'E-3*B-4*0.5', 'G3*F5*1.0', 'B-3 1.0', 'G4 0.5', 'E-3*B-4*0.5', 'F5 1.0', 'F2 0.5', 'C3*G4*0.5', 'F3*B-4*0.5', 'A3*F5*1.0', 'C4 1.0', 'G4 0.5', 'F3*D5*0.5', 'E-5 0.5', 'G2 0.5', 'D3*F5*1.75', 'G3 0.5', 'A3 2.25', 'B-3 0.5', 'G3 0.5', 'B-3 0.5', 'G2 0.5', 'D3 0.5', 'G3 0.5', 'C4 2.25', 'D4 0.5', 'G3 1.0', 'E-2 0.5', 'B-2*B-3*0.5', 'E-3*B-3*0.5', 'B-3 0.5', 'B-3 0.5', 'C4 0.5', 'E-2*C4*0.5', 'C4 0.5', 'F2 0.5', 'C3*B-3*0.5', 'F3*B-3*0.5', 'B-3 0.5', 'B-3 0.5', 'C4 0.5', 'F2*D4*0.5', 'E-4 0.5', 'G2 0.5', 'D3*D4*1.75', 'G3 0.5', 'B-3 0.5', 'D4 1.0', 'D3 1.0', 'A3 0.5', 'G2 0.5', 'D3 0.5', 'G3 0.5', 'A3 0.5', 'B-3 0.5', 'D4 1.0', 'F2 1.0', 'G3 0.5', 'E-2 0.5', 'B-2*G3*0.5', 'E-3*G3*0.5', 'G3 0.5', 'G3 0.5', 'C4 0.5', 'E-2*C4*0.5', 'C4 0.5', 'F2 0.5', 'C3*B-3*0.5', 'F3*B-3*0.5', 'D4 1.0', 'G2 1.0', 'E-4 1.0', 'F2 1.0', 'G4 0.5', 'E-2*F5*0.5', 'B-2*G4*0.5', 'E-3*B-4*0.5', 'G3*F5*1.0', 'B-3 1.0', 'G4 0.5', 'E-3*B-4*0.5', 'F5 1.0', 'F2 0.5', 'C3*G4*0.5', 'F3*B-4*0.5', 'A3*F5*1.0', 'C4 1.0', 'G4 0.5', 'F3*D5*0.5', 'E-5 0.5', 'G2 0.5', 'D3*F5*1.75', 'G3 0.5', 'A3 2.25', 'B-3 0.5', 'G3 0.5', 'B-3 0.5', 'G2 0.5', 'D3 0.5', 'G3 0.5', 'C4 2.25', 'D4 0.5', 'G3 1.0', 'E-2 0.5', 'B-2*B-3*0.5', 'E-3*B-3*0.5', 'B-3 0.5', 'B-3 0.5', 'C4 0.5', 'E-2*C4*0.5', 'C4 0.5', 'F2 0.5', 'C3*B-3*0.5', 'F3*B-3*0.5', 'B-3 0.5', 'B-3 0.5', 'C4 0.5', 'F2*D4*0.5', 'E-4 0.5', 'G2 0.5', 'D3*D4*1.75', 'G3 0.5', 'B-3 0.5', 'D4 1.0', 'D3 1.0', 'A3 0.5', 'G2 0.5', 'D3 0.5', 'G3 0.5', 'A3 0.5', 'B-3 0.5', 'D4 1.0', 'F2 1.0', 'G3 0.5', 'E-2 0.5', 'B-2*G3*0.5', 'E-3*G3*0.5', 'G3 0.5', 'G3 0.5', 'C4 0.5', 'E-2*C4*0.5', 'C4 0.5', 'F2 0.5', 'C3*B-3*0.5', 'F3*B-3*0.5', 'B-3 0.5', 'B-3 0.5', 'C4 0.5', 'F2*D4*0.5', 'F2 1.0', 'G4 0.5', 'E-2*F5*0.5', 'B-2*G4*0.5', 'E-3*B-4*0.5', 'G3*F5*1.0', 'B-3 1.0', 'G4 0.5', 'E-3*B-4*0.5', 'F5 1.0', 'F2 0.5', 'C3*G4*0.5', 'F3*B-4*0.5', 'A3*F5*1.0', 'C4 1.0', 'G4 0.5', 'F3*D5*0.5', 'E-5 0.5', 'G2 0.5', 'D3*F5*1.75', 'G3 0.5', 'A3 2.25', 'B-3 0.5', 'G3 0.5', 'B-3 0.5', 'G2 0.5', 'D3 0.5', 'G3 0.5', 'C4 2.25', 'D4 0.5', 'G3 1.0', 'E-2 0.5', 'B-2*B-3*0.5', 'E-3*B-3*0.5', 'B-3 0.5', 'B-3 0.5', 'C4 0.5', 'E-2*C4*0.5', 'C4 0.5', 'F2 0.5', 'C3*B-3*0.5', 'F3*B-3*0.5', 'B-3 0.5', 'B-3 0.5', 'C4 0.5', 'F2*D4*0.5', 'E-4 0.5', 'G2 0.5', 'D3*D4*1.75', 'G3 0.5', 'B-3 0.5', 'D4 1.0', 'D3 1.0', 'A3 0.5', 'G2 0.5', 'D3 0.5', 'G3 0.5', 'A3 0.5', 'B-3 0.5', 'D4 1.0', 'F2 1.0', 'G3 0.5', 'E-2 0.5', 'B-2*G3*0.5', 'E-3*G3*0.5', 'G3 0.5', 'G3 0.5', 'C4 0.5', 'E-2*C4*0.5', 'C4 0.5', 'F2 0.5', 'C3*B-3*0.5', 'F3*B-3*0.5', 'B-3 0.5', 'B-3 0.5', 'C4 0.5', 'F2*D4*0.5', 'E-4 0.5', 'G2 0.5', 'D3*F4*1.25', 'G3 0.5', 'A3 0.5', 'B-3 0.5', 'C4 0.5', 'G3*D4*0.5', 'E-4 0.5', 'G2 0.5', 'D3 0.5', 'G3 0.5', 'A3 0.5', 'G3 0.5', 'A3 0.5', 'E-3*B-3*0.5', 'F4 0.5', 'C2 0.5', 'G2 0.5', 'C3 0.5', 'D3 0.5', 'E-3 1.0', 'G3 0.5']\n",
            "[<music21.note.Note E->, <music21.note.Note F>, <music21.note.Note B->, <music21.note.Note G>, <music21.note.Note E->, <music21.note.Note B->, <music21.note.Note F>, <music21.note.Note G>, <music21.note.Note E->, <music21.note.Note B->, <music21.note.Note F>, <music21.note.Note F>, <music21.note.Note C>, <music21.note.Note G>, <music21.note.Note F>, <music21.note.Note B->, <music21.note.Note F>, <music21.note.Note G>, <music21.note.Note F>, <music21.note.Note B->, <music21.note.Note G>, <music21.note.Note D>, <music21.note.Note B->, <music21.note.Note G>, <music21.note.Note B->, <music21.note.Note B->, <music21.note.Note G>, <music21.note.Note B->, <music21.note.Note B->, <music21.note.Note G>, <music21.note.Note D>, <music21.note.Note C>, <music21.note.Note G>, <music21.note.Note D>, <music21.note.Note G>, <music21.note.Note E->, <music21.note.Note F>, <music21.note.Note G>, <music21.note.Note E->, <music21.note.Note F>, <music21.note.Note B->, <music21.note.Note G>, <music21.note.Note E->, <music21.note.Note B->, <music21.note.Note G>, <music21.note.Note F>, <music21.note.Note B->, <music21.note.Note G>, <music21.note.Note E->, <music21.note.Note B->, <music21.note.Note F>, <music21.note.Note F>, <music21.note.Note C>, <music21.note.Note G>, <music21.note.Note F>, <music21.note.Note B->, <music21.note.Note A>, <music21.note.Note F>, <music21.note.Note C>, <music21.note.Note G>, <music21.note.Note F>, <music21.note.Note D>, <music21.note.Note E->, <music21.note.Note G>, <music21.note.Note D>, <music21.note.Note F>, <music21.note.Note G>, <music21.note.Note A>, <music21.note.Note B->, <music21.note.Note G>, <music21.note.Note B->, <music21.note.Note G>, <music21.note.Note D>, <music21.note.Note G>, <music21.note.Note C>, <music21.note.Note D>, <music21.note.Note G>, <music21.note.Note E->, <music21.note.Note B->, <music21.note.Note B->, <music21.note.Note E->, <music21.note.Note B->, <music21.note.Note B->, <music21.note.Note B->, <music21.note.Note C>, <music21.note.Note E->, <music21.note.Note C>, <music21.note.Note C>, <music21.note.Note F>, <music21.note.Note C>, <music21.note.Note B->, <music21.note.Note F>, <music21.note.Note B->, <music21.note.Note B->, <music21.note.Note B->, <music21.note.Note C>, <music21.note.Note F>, <music21.note.Note D>, <music21.note.Note E->, <music21.note.Note G>, <music21.note.Note D>, <music21.note.Note D>, <music21.note.Note G>, <music21.note.Note B->, <music21.note.Note D>, <music21.note.Note D>, <music21.note.Note A>, <music21.note.Note G>, <music21.note.Note D>, <music21.note.Note G>, <music21.note.Note A>, <music21.note.Note B->, <music21.note.Note D>, <music21.note.Note F>, <music21.note.Note G>, <music21.note.Note E->, <music21.note.Note B->, <music21.note.Note G>, <music21.note.Note E->, <music21.note.Note G>, <music21.note.Note G>, <music21.note.Note G>, <music21.note.Note C>, <music21.note.Note E->, <music21.note.Note C>, <music21.note.Note C>, <music21.note.Note F>, <music21.note.Note C>, <music21.note.Note B->, <music21.note.Note F>, <music21.note.Note B->, <music21.note.Note D>, <music21.note.Note G>, <music21.note.Note E->, <music21.note.Note F>, <music21.note.Note G>, <music21.note.Note E->, <music21.note.Note F>, <music21.note.Note B->, <music21.note.Note G>, <music21.note.Note E->, <music21.note.Note B->, <music21.note.Note G>, <music21.note.Note F>, <music21.note.Note B->, <music21.note.Note G>, <music21.note.Note E->, <music21.note.Note B->, <music21.note.Note F>, <music21.note.Note F>, <music21.note.Note C>, <music21.note.Note G>, <music21.note.Note F>, <music21.note.Note B->, <music21.note.Note A>, <music21.note.Note F>, <music21.note.Note C>, <music21.note.Note G>, <music21.note.Note F>, <music21.note.Note D>, <music21.note.Note E->, <music21.note.Note G>, <music21.note.Note D>, <music21.note.Note F>, <music21.note.Note G>, <music21.note.Note A>, <music21.note.Note B->, <music21.note.Note G>, <music21.note.Note B->, <music21.note.Note G>, <music21.note.Note D>, <music21.note.Note G>, <music21.note.Note C>, <music21.note.Note D>, <music21.note.Note G>, <music21.note.Note E->, <music21.note.Note B->, <music21.note.Note B->, <music21.note.Note E->, <music21.note.Note B->, <music21.note.Note B->, <music21.note.Note B->, <music21.note.Note C>, <music21.note.Note E->, <music21.note.Note C>, <music21.note.Note C>, <music21.note.Note F>, <music21.note.Note C>, <music21.note.Note B->, <music21.note.Note F>, <music21.note.Note B->, <music21.note.Note B->, <music21.note.Note B->, <music21.note.Note C>, <music21.note.Note F>, <music21.note.Note D>, <music21.note.Note E->, <music21.note.Note G>, <music21.note.Note D>, <music21.note.Note D>, <music21.note.Note G>, <music21.note.Note B->, <music21.note.Note D>, <music21.note.Note D>, <music21.note.Note A>, <music21.note.Note G>, <music21.note.Note D>, <music21.note.Note G>, <music21.note.Note A>, <music21.note.Note B->, <music21.note.Note D>, <music21.note.Note F>, <music21.note.Note G>, <music21.note.Note E->, <music21.note.Note B->, <music21.note.Note G>, <music21.note.Note E->, <music21.note.Note G>, <music21.note.Note G>, <music21.note.Note G>, <music21.note.Note C>, <music21.note.Note E->, <music21.note.Note C>, <music21.note.Note C>, <music21.note.Note F>, <music21.note.Note C>, <music21.note.Note B->, <music21.note.Note F>, <music21.note.Note B->, <music21.note.Note B->, <music21.note.Note B->, <music21.note.Note C>, <music21.note.Note F>, <music21.note.Note D>, <music21.note.Note F>, <music21.note.Note G>, <music21.note.Note E->, <music21.note.Note F>, <music21.note.Note B->, <music21.note.Note G>, <music21.note.Note E->, <music21.note.Note B->, <music21.note.Note G>, <music21.note.Note F>, <music21.note.Note B->, <music21.note.Note G>, <music21.note.Note E->, <music21.note.Note B->, <music21.note.Note F>, <music21.note.Note F>, <music21.note.Note C>, <music21.note.Note G>, <music21.note.Note F>, <music21.note.Note B->, <music21.note.Note A>, <music21.note.Note F>, <music21.note.Note C>, <music21.note.Note G>, <music21.note.Note F>, <music21.note.Note D>, <music21.note.Note E->, <music21.note.Note G>, <music21.note.Note D>, <music21.note.Note F>, <music21.note.Note G>, <music21.note.Note A>, <music21.note.Note B->, <music21.note.Note G>, <music21.note.Note B->, <music21.note.Note G>, <music21.note.Note D>, <music21.note.Note G>, <music21.note.Note C>, <music21.note.Note D>, <music21.note.Note G>, <music21.note.Note E->, <music21.note.Note B->, <music21.note.Note B->, <music21.note.Note E->, <music21.note.Note B->, <music21.note.Note B->, <music21.note.Note B->, <music21.note.Note C>, <music21.note.Note E->, <music21.note.Note C>, <music21.note.Note C>, <music21.note.Note F>, <music21.note.Note C>, <music21.note.Note B->, <music21.note.Note F>, <music21.note.Note B->, <music21.note.Note B->, <music21.note.Note B->, <music21.note.Note C>, <music21.note.Note F>, <music21.note.Note D>, <music21.note.Note E->, <music21.note.Note G>, <music21.note.Note D>, <music21.note.Note D>, <music21.note.Note G>, <music21.note.Note B->, <music21.note.Note D>, <music21.note.Note D>, <music21.note.Note A>, <music21.note.Note G>, <music21.note.Note D>, <music21.note.Note G>, <music21.note.Note A>, <music21.note.Note B->, <music21.note.Note D>, <music21.note.Note F>, <music21.note.Note G>, <music21.note.Note E->, <music21.note.Note B->, <music21.note.Note G>, <music21.note.Note E->, <music21.note.Note G>, <music21.note.Note G>, <music21.note.Note G>, <music21.note.Note C>, <music21.note.Note E->, <music21.note.Note C>, <music21.note.Note C>, <music21.note.Note F>, <music21.note.Note C>, <music21.note.Note B->, <music21.note.Note F>, <music21.note.Note B->, <music21.note.Note B->, <music21.note.Note B->, <music21.note.Note C>, <music21.note.Note F>, <music21.note.Note D>, <music21.note.Note E->, <music21.note.Note G>, <music21.note.Note D>, <music21.note.Note F>, <music21.note.Note G>, <music21.note.Note A>, <music21.note.Note B->, <music21.note.Note C>, <music21.note.Note G>, <music21.note.Note D>, <music21.note.Note E->, <music21.note.Note G>, <music21.note.Note D>, <music21.note.Note G>, <music21.note.Note A>, <music21.note.Note G>, <music21.note.Note A>, <music21.note.Note E->, <music21.note.Note B->, <music21.note.Note F>, <music21.note.Note C>, <music21.note.Note G>, <music21.note.Note C>, <music21.note.Note D>, <music21.note.Note E->, <music21.note.Note G>]\n",
            "186.0\n"
          ],
          "name": "stdout"
        }
      ]
    }
  ]
}